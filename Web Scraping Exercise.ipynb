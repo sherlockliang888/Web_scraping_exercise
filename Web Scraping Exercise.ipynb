{
 "cells": [
  {
   "cell_type": "markdown",
   "metadata": {},
   "source": [
    "# Web Scraping Exercise"
   ]
  },
  {
   "cell_type": "markdown",
   "metadata": {},
   "source": [
    "### Scraping Indeed Job Search Results"
   ]
  },
  {
   "cell_type": "markdown",
   "metadata": {},
   "source": [
    "Importing all relevant packages."
   ]
  },
  {
   "cell_type": "code",
   "execution_count": 1,
   "metadata": {},
   "outputs": [],
   "source": [
    "import csv\n",
    "from datetime import datetime\n",
    "import requests\n",
    "from bs4 import BeautifulSoup as bs\n",
    "import pandas as pd"
   ]
  },
  {
   "cell_type": "markdown",
   "metadata": {},
   "source": [
    "<p> Defining two important functions: get_link(position, city, province) will generate the Indeed website link once you enter your wanted job position, the city and province in Canada, get_record(card) will provide you a tuple of a relevant job information including job title, company, job location, post date, today, job summary, job salary and job url. </p>"
   ]
  },
  {
   "cell_type": "code",
   "execution_count": 2,
   "metadata": {},
   "outputs": [],
   "source": [
    "def get_link(position, city, province):\n",
    "    template = \"https://ca.indeed.com/jobs?q={}&l={}%2C+{}\"\n",
    "    url = template.format(position, city, province)\n",
    "    return url\n",
    "\n",
    "def get_record(card):\n",
    "    atag = card.h2.a\n",
    "    job_title = atag.get(\"title\")\n",
    "    job_url =  \"https://ca.indeed.com\" + atag.get(\"href\")\n",
    "    company = card.find(\"span\", \"company\").text.strip()\n",
    "    \n",
    "\n",
    "    today = datetime.today().strftime(\"%Y-%m-%d\")\n",
    "    try:\n",
    "        job_location = card.find(\"div\", \"recJobLoc\").get(\"data-rc-loc\")\n",
    "    except:\n",
    "        job_location = \" \"\n",
    "    try:\n",
    "        job_salary = card.find(\"span\", \"salaryText\").text.strip()\n",
    "    except:\n",
    "        job_salary = \" \"\n",
    "    try:\n",
    "        job_summary = card.find(\"div\", \"summary\").text.strip()\n",
    "    except:\n",
    "        job_summary = \" \"\n",
    "    try:\n",
    "        post_date = card.find(\"span\", \"date\").text\n",
    "    except:\n",
    "        post_date = \" \"\n",
    "        \n",
    "    record = (job_title, company, job_location, post_date, today, job_summary, job_salary, job_url)\n",
    "    \n",
    "    return record\n"
   ]
  },
  {
   "cell_type": "markdown",
   "metadata": {},
   "source": [
    "<p> The main(position, city, province) function takes your wanted job position, the city and province in Canada and eventually enter a dataframe of all jobs in your wanted region. </p>"
   ]
  },
  {
   "cell_type": "code",
   "execution_count": 3,
   "metadata": {},
   "outputs": [],
   "source": [
    "#New version main\n",
    "def main(position, city, province):\n",
    "    records = []\n",
    "    url = get_link(position, city, province)\n",
    "    \n",
    "    while True:\n",
    "        response = requests.get(url)\n",
    "        soup = bs(response.text, 'html.parser')\n",
    "        cards = soup.find_all(\"div\", attrs={'class': 'jobsearch-SerpJobCard'})\n",
    "        \n",
    "        for card in cards:\n",
    "            record = get_record(card)\n",
    "            records.append(record)\n",
    "            \n",
    "        try:\n",
    "            url = \"https://ca.indeed.com\" + soup.find(\"a\", {\"aria-label\": \"Next\"}).get(\"href\")\n",
    "        except AttributeError:\n",
    "            break\n",
    "    \n",
    "    records = pd.DataFrame(records, columns = [\"job_title\", \"company\", \"job_location\", \"post_date\", \"today\", \"job_summary\", \"job_salary\", \"job_url\"])\n",
    "    return records"
   ]
  },
  {
   "cell_type": "markdown",
   "metadata": {},
   "source": [
    "An example follows."
   ]
  },
  {
   "cell_type": "code",
   "execution_count": 4,
   "metadata": {},
   "outputs": [
    {
     "data": {
      "text/html": [
       "<div>\n",
       "<style scoped>\n",
       "    .dataframe tbody tr th:only-of-type {\n",
       "        vertical-align: middle;\n",
       "    }\n",
       "\n",
       "    .dataframe tbody tr th {\n",
       "        vertical-align: top;\n",
       "    }\n",
       "\n",
       "    .dataframe thead th {\n",
       "        text-align: right;\n",
       "    }\n",
       "</style>\n",
       "<table border=\"1\" class=\"dataframe\">\n",
       "  <thead>\n",
       "    <tr style=\"text-align: right;\">\n",
       "      <th></th>\n",
       "      <th>job_title</th>\n",
       "      <th>company</th>\n",
       "      <th>job_location</th>\n",
       "      <th>post_date</th>\n",
       "      <th>today</th>\n",
       "      <th>job_summary</th>\n",
       "      <th>job_salary</th>\n",
       "      <th>job_url</th>\n",
       "    </tr>\n",
       "  </thead>\n",
       "  <tbody>\n",
       "    <tr>\n",
       "      <th>0</th>\n",
       "      <td>Fenergo Data Analyst</td>\n",
       "      <td>Aerotek</td>\n",
       "      <td></td>\n",
       "      <td></td>\n",
       "      <td>2020-12-15</td>\n",
       "      <td></td>\n",
       "      <td></td>\n",
       "      <td>https://ca.indeed.com/pagead/clk?mo=r&amp;ad=-6NYl...</td>\n",
       "    </tr>\n",
       "    <tr>\n",
       "      <th>1</th>\n",
       "      <td>Junior BI Developer/Analyst</td>\n",
       "      <td>Magna International Inc.</td>\n",
       "      <td></td>\n",
       "      <td></td>\n",
       "      <td>2020-12-15</td>\n",
       "      <td></td>\n",
       "      <td></td>\n",
       "      <td>https://ca.indeed.com/pagead/clk?mo=r&amp;ad=-6NYl...</td>\n",
       "    </tr>\n",
       "    <tr>\n",
       "      <th>2</th>\n",
       "      <td>Junior Decision Support Analyst</td>\n",
       "      <td>Reconnect Community Health Services</td>\n",
       "      <td>Toronto, ON</td>\n",
       "      <td>15 days ago</td>\n",
       "      <td>2020-12-15</td>\n",
       "      <td>Gather and process project data and other busi...</td>\n",
       "      <td>$42,000 - $50,000 a year</td>\n",
       "      <td>https://ca.indeed.com/pagead/clk?mo=r&amp;ad=-6NYl...</td>\n",
       "    </tr>\n",
       "    <tr>\n",
       "      <th>3</th>\n",
       "      <td>Senior Analyst</td>\n",
       "      <td>Amphenol Cnaada Corp</td>\n",
       "      <td>Scarborough, ON</td>\n",
       "      <td>Today</td>\n",
       "      <td>2020-12-15</td>\n",
       "      <td>Analysis of various product related data to su...</td>\n",
       "      <td></td>\n",
       "      <td>https://ca.indeed.com/pagead/clk?mo=r&amp;ad=-6NYl...</td>\n",
       "    </tr>\n",
       "    <tr>\n",
       "      <th>4</th>\n",
       "      <td>Data Systems/Analyst {Experience Required}</td>\n",
       "      <td>A.S. May</td>\n",
       "      <td>Mississauga, ON</td>\n",
       "      <td>Today</td>\n",
       "      <td>2020-12-15</td>\n",
       "      <td>Adding new data, data collection. creating rep...</td>\n",
       "      <td>$60,000 - $65,000 a year</td>\n",
       "      <td>https://ca.indeed.com/company/A.S.-May/jobs/Da...</td>\n",
       "    </tr>\n",
       "    <tr>\n",
       "      <th>...</th>\n",
       "      <td>...</td>\n",
       "      <td>...</td>\n",
       "      <td>...</td>\n",
       "      <td>...</td>\n",
       "      <td>...</td>\n",
       "      <td>...</td>\n",
       "      <td>...</td>\n",
       "      <td>...</td>\n",
       "    </tr>\n",
       "    <tr>\n",
       "      <th>578</th>\n",
       "      <td>Business Analyst (Dynamics CRM) - 299785</td>\n",
       "      <td>Procom</td>\n",
       "      <td></td>\n",
       "      <td></td>\n",
       "      <td>2020-12-15</td>\n",
       "      <td></td>\n",
       "      <td></td>\n",
       "      <td>https://ca.indeed.com/pagead/clk?mo=r&amp;ad=-6NYl...</td>\n",
       "    </tr>\n",
       "    <tr>\n",
       "      <th>579</th>\n",
       "      <td>Experienced ETL tester/BI expert with automati...</td>\n",
       "      <td>Olymp Technologies</td>\n",
       "      <td>Toronto, ON</td>\n",
       "      <td>5 days ago</td>\n",
       "      <td>2020-12-15</td>\n",
       "      <td>Demonstrated experience analyzing and testing ...</td>\n",
       "      <td></td>\n",
       "      <td>https://ca.indeed.com/company/Ministry-of-Heal...</td>\n",
       "    </tr>\n",
       "    <tr>\n",
       "      <th>580</th>\n",
       "      <td>Salesforce Business Systems Analyst</td>\n",
       "      <td>Affinity Staffing</td>\n",
       "      <td>Toronto, ON</td>\n",
       "      <td>30+ days ago</td>\n",
       "      <td>2020-12-15</td>\n",
       "      <td>Through user story definition, logical data mo...</td>\n",
       "      <td></td>\n",
       "      <td>https://ca.indeed.com/pagead/clk?mo=r&amp;ad=-6NYl...</td>\n",
       "    </tr>\n",
       "    <tr>\n",
       "      <th>581</th>\n",
       "      <td>Bilingual Capital Markets Business Analyst - 2...</td>\n",
       "      <td>Procom</td>\n",
       "      <td></td>\n",
       "      <td></td>\n",
       "      <td>2020-12-15</td>\n",
       "      <td></td>\n",
       "      <td></td>\n",
       "      <td>https://ca.indeed.com/pagead/clk?mo=r&amp;ad=-6NYl...</td>\n",
       "    </tr>\n",
       "    <tr>\n",
       "      <th>582</th>\n",
       "      <td>Senior Business Analyst – MS Dynamics AX /365 ...</td>\n",
       "      <td>Procom</td>\n",
       "      <td></td>\n",
       "      <td></td>\n",
       "      <td>2020-12-15</td>\n",
       "      <td></td>\n",
       "      <td></td>\n",
       "      <td>https://ca.indeed.com/pagead/clk?mo=r&amp;ad=-6NYl...</td>\n",
       "    </tr>\n",
       "  </tbody>\n",
       "</table>\n",
       "<p>583 rows × 8 columns</p>\n",
       "</div>"
      ],
      "text/plain": [
       "                                             job_title  \\\n",
       "0                                 Fenergo Data Analyst   \n",
       "1                          Junior BI Developer/Analyst   \n",
       "2                      Junior Decision Support Analyst   \n",
       "3                                       Senior Analyst   \n",
       "4           Data Systems/Analyst {Experience Required}   \n",
       "..                                                 ...   \n",
       "578           Business Analyst (Dynamics CRM) - 299785   \n",
       "579  Experienced ETL tester/BI expert with automati...   \n",
       "580                Salesforce Business Systems Analyst   \n",
       "581  Bilingual Capital Markets Business Analyst - 2...   \n",
       "582  Senior Business Analyst – MS Dynamics AX /365 ...   \n",
       "\n",
       "                                 company     job_location     post_date  \\\n",
       "0                                Aerotek                                  \n",
       "1               Magna International Inc.                                  \n",
       "2    Reconnect Community Health Services      Toronto, ON   15 days ago   \n",
       "3                   Amphenol Cnaada Corp  Scarborough, ON         Today   \n",
       "4                               A.S. May  Mississauga, ON         Today   \n",
       "..                                   ...              ...           ...   \n",
       "578                               Procom                                  \n",
       "579                   Olymp Technologies      Toronto, ON    5 days ago   \n",
       "580                    Affinity Staffing      Toronto, ON  30+ days ago   \n",
       "581                               Procom                                  \n",
       "582                               Procom                                  \n",
       "\n",
       "          today                                        job_summary  \\\n",
       "0    2020-12-15                                                      \n",
       "1    2020-12-15                                                      \n",
       "2    2020-12-15  Gather and process project data and other busi...   \n",
       "3    2020-12-15  Analysis of various product related data to su...   \n",
       "4    2020-12-15  Adding new data, data collection. creating rep...   \n",
       "..          ...                                                ...   \n",
       "578  2020-12-15                                                      \n",
       "579  2020-12-15  Demonstrated experience analyzing and testing ...   \n",
       "580  2020-12-15  Through user story definition, logical data mo...   \n",
       "581  2020-12-15                                                      \n",
       "582  2020-12-15                                                      \n",
       "\n",
       "                   job_salary  \\\n",
       "0                               \n",
       "1                               \n",
       "2    $42,000 - $50,000 a year   \n",
       "3                               \n",
       "4    $60,000 - $65,000 a year   \n",
       "..                        ...   \n",
       "578                             \n",
       "579                             \n",
       "580                             \n",
       "581                             \n",
       "582                             \n",
       "\n",
       "                                               job_url  \n",
       "0    https://ca.indeed.com/pagead/clk?mo=r&ad=-6NYl...  \n",
       "1    https://ca.indeed.com/pagead/clk?mo=r&ad=-6NYl...  \n",
       "2    https://ca.indeed.com/pagead/clk?mo=r&ad=-6NYl...  \n",
       "3    https://ca.indeed.com/pagead/clk?mo=r&ad=-6NYl...  \n",
       "4    https://ca.indeed.com/company/A.S.-May/jobs/Da...  \n",
       "..                                                 ...  \n",
       "578  https://ca.indeed.com/pagead/clk?mo=r&ad=-6NYl...  \n",
       "579  https://ca.indeed.com/company/Ministry-of-Heal...  \n",
       "580  https://ca.indeed.com/pagead/clk?mo=r&ad=-6NYl...  \n",
       "581  https://ca.indeed.com/pagead/clk?mo=r&ad=-6NYl...  \n",
       "582  https://ca.indeed.com/pagead/clk?mo=r&ad=-6NYl...  \n",
       "\n",
       "[583 rows x 8 columns]"
      ]
     },
     "execution_count": 4,
     "metadata": {},
     "output_type": "execute_result"
    }
   ],
   "source": [
    "main(\"data analyst\", \"toronto\", \"ON\")"
   ]
  },
  {
   "cell_type": "markdown",
   "metadata": {},
   "source": [
    "### Scraping a Table From a Webpage"
   ]
  },
  {
   "cell_type": "code",
   "execution_count": 5,
   "metadata": {
    "scrolled": true
   },
   "outputs": [],
   "source": [
    "import requests\n",
    "from bs4 import BeautifulSoup as bs\n",
    "import pandas as pd"
   ]
  },
  {
   "cell_type": "markdown",
   "metadata": {},
   "source": [
    "Getting the table we want on the website."
   ]
  },
  {
   "cell_type": "code",
   "execution_count": 6,
   "metadata": {},
   "outputs": [],
   "source": [
    "# Get the webpage and table \n",
    "w = requests.get(\"https://ca.finance.yahoo.com/quote/OXY/history?period1=1574897548&period2=1606519948&interval=1d&filter=history&frequency=1d&includeAdjustedClose=true\")\n",
    "web = bs(w.content)\n",
    "# add \\ before special symbols\n",
    "table1 = web.select(\"table.W\\(100\\%\\).M\\(0\\)\")[0]"
   ]
  },
  {
   "cell_type": "markdown",
   "metadata": {},
   "source": [
    "<img align=\"right\" src=\"Images/Yahoo.png\" width = \"300\" /> \n",
    "<p> For instance, we are interested in the historical price of a certain stock on Yahoo, as shown on the right, yet we can't download the chart from the website. We can instead, scrape this table on historical price from the date range we want and convert them into a dataframe. </p>"
   ]
  },
  {
   "cell_type": "markdown",
   "metadata": {},
   "source": [
    "Reading the html code of the webpage and accquire its columns and column names."
   ]
  },
  {
   "cell_type": "code",
   "execution_count": 8,
   "metadata": {},
   "outputs": [],
   "source": [
    "#get table columns\n",
    "columns = table1.find(\"thead\").find_all(\"th\")\n",
    "\n",
    "#get column names\n",
    "column_name = []\n",
    "for c in columns:\n",
    "    column_name.append(c.string)\n"
   ]
  },
  {
   "cell_type": "markdown",
   "metadata": {},
   "source": [
    "Returning the table from the webpage and taking a first look at the table. "
   ]
  },
  {
   "cell_type": "code",
   "execution_count": 9,
   "metadata": {
    "scrolled": true
   },
   "outputs": [
    {
     "data": {
      "text/html": [
       "<div>\n",
       "<style scoped>\n",
       "    .dataframe tbody tr th:only-of-type {\n",
       "        vertical-align: middle;\n",
       "    }\n",
       "\n",
       "    .dataframe tbody tr th {\n",
       "        vertical-align: top;\n",
       "    }\n",
       "\n",
       "    .dataframe thead th {\n",
       "        text-align: right;\n",
       "    }\n",
       "</style>\n",
       "<table border=\"1\" class=\"dataframe\">\n",
       "  <thead>\n",
       "    <tr style=\"text-align: right;\">\n",
       "      <th></th>\n",
       "      <th>Date</th>\n",
       "      <th>Open</th>\n",
       "      <th>High</th>\n",
       "      <th>Low</th>\n",
       "      <th>Close*</th>\n",
       "      <th>Adj Close**</th>\n",
       "      <th>Volume</th>\n",
       "      <th>Code</th>\n",
       "    </tr>\n",
       "  </thead>\n",
       "  <tbody>\n",
       "    <tr>\n",
       "      <th>99</th>\n",
       "      <td>2020-07-10</td>\n",
       "      <td>16.06</td>\n",
       "      <td>16.75</td>\n",
       "      <td>15.95</td>\n",
       "      <td>16.71</td>\n",
       "      <td>16.68</td>\n",
       "      <td>17,584,200</td>\n",
       "      <td>OXY</td>\n",
       "    </tr>\n",
       "    <tr>\n",
       "      <th>98</th>\n",
       "      <td>2020-07-13</td>\n",
       "      <td>16.76</td>\n",
       "      <td>16.81</td>\n",
       "      <td>16.00</td>\n",
       "      <td>16.16</td>\n",
       "      <td>16.14</td>\n",
       "      <td>21,665,700</td>\n",
       "      <td>OXY</td>\n",
       "    </tr>\n",
       "    <tr>\n",
       "      <th>97</th>\n",
       "      <td>2020-07-14</td>\n",
       "      <td>15.95</td>\n",
       "      <td>16.76</td>\n",
       "      <td>15.75</td>\n",
       "      <td>16.68</td>\n",
       "      <td>16.65</td>\n",
       "      <td>19,740,500</td>\n",
       "      <td>OXY</td>\n",
       "    </tr>\n",
       "    <tr>\n",
       "      <th>96</th>\n",
       "      <td>2020-07-15</td>\n",
       "      <td>17.29</td>\n",
       "      <td>17.73</td>\n",
       "      <td>16.90</td>\n",
       "      <td>17.18</td>\n",
       "      <td>17.15</td>\n",
       "      <td>22,801,400</td>\n",
       "      <td>OXY</td>\n",
       "    </tr>\n",
       "    <tr>\n",
       "      <th>95</th>\n",
       "      <td>2020-07-16</td>\n",
       "      <td>16.90</td>\n",
       "      <td>17.40</td>\n",
       "      <td>16.57</td>\n",
       "      <td>17.01</td>\n",
       "      <td>16.98</td>\n",
       "      <td>15,463,000</td>\n",
       "      <td>OXY</td>\n",
       "    </tr>\n",
       "    <tr>\n",
       "      <th>...</th>\n",
       "      <td>...</td>\n",
       "      <td>...</td>\n",
       "      <td>...</td>\n",
       "      <td>...</td>\n",
       "      <td>...</td>\n",
       "      <td>...</td>\n",
       "      <td>...</td>\n",
       "      <td>...</td>\n",
       "    </tr>\n",
       "    <tr>\n",
       "      <th>4</th>\n",
       "      <td>2020-11-20</td>\n",
       "      <td>13.69</td>\n",
       "      <td>13.71</td>\n",
       "      <td>13.30</td>\n",
       "      <td>13.49</td>\n",
       "      <td>13.48</td>\n",
       "      <td>20,149,800</td>\n",
       "      <td>OXY</td>\n",
       "    </tr>\n",
       "    <tr>\n",
       "      <th>3</th>\n",
       "      <td>2020-11-23</td>\n",
       "      <td>13.85</td>\n",
       "      <td>15.81</td>\n",
       "      <td>13.83</td>\n",
       "      <td>15.76</td>\n",
       "      <td>15.75</td>\n",
       "      <td>44,957,100</td>\n",
       "      <td>OXY</td>\n",
       "    </tr>\n",
       "    <tr>\n",
       "      <th>2</th>\n",
       "      <td>2020-11-24</td>\n",
       "      <td>16.97</td>\n",
       "      <td>17.27</td>\n",
       "      <td>16.31</td>\n",
       "      <td>16.78</td>\n",
       "      <td>16.77</td>\n",
       "      <td>54,355,000</td>\n",
       "      <td>OXY</td>\n",
       "    </tr>\n",
       "    <tr>\n",
       "      <th>1</th>\n",
       "      <td>2020-11-25</td>\n",
       "      <td>16.65</td>\n",
       "      <td>17.10</td>\n",
       "      <td>15.94</td>\n",
       "      <td>16.72</td>\n",
       "      <td>16.71</td>\n",
       "      <td>29,706,200</td>\n",
       "      <td>OXY</td>\n",
       "    </tr>\n",
       "    <tr>\n",
       "      <th>0</th>\n",
       "      <td>2020-11-27</td>\n",
       "      <td>16.72</td>\n",
       "      <td>16.95</td>\n",
       "      <td>16.34</td>\n",
       "      <td>16.56</td>\n",
       "      <td>16.55</td>\n",
       "      <td>13,272,500</td>\n",
       "      <td>OXY</td>\n",
       "    </tr>\n",
       "  </tbody>\n",
       "</table>\n",
       "<p>100 rows × 8 columns</p>\n",
       "</div>"
      ],
      "text/plain": [
       "         Date   Open   High    Low Close* Adj Close**      Volume Code\n",
       "99 2020-07-10  16.06  16.75  15.95  16.71       16.68  17,584,200  OXY\n",
       "98 2020-07-13  16.76  16.81  16.00  16.16       16.14  21,665,700  OXY\n",
       "97 2020-07-14  15.95  16.76  15.75  16.68       16.65  19,740,500  OXY\n",
       "96 2020-07-15  17.29  17.73  16.90  17.18       17.15  22,801,400  OXY\n",
       "95 2020-07-16  16.90  17.40  16.57  17.01       16.98  15,463,000  OXY\n",
       "..        ...    ...    ...    ...    ...         ...         ...  ...\n",
       "4  2020-11-20  13.69  13.71  13.30  13.49       13.48  20,149,800  OXY\n",
       "3  2020-11-23  13.85  15.81  13.83  15.76       15.75  44,957,100  OXY\n",
       "2  2020-11-24  16.97  17.27  16.31  16.78       16.77  54,355,000  OXY\n",
       "1  2020-11-25  16.65  17.10  15.94  16.72       16.71  29,706,200  OXY\n",
       "0  2020-11-27  16.72  16.95  16.34  16.56       16.55  13,272,500  OXY\n",
       "\n",
       "[100 rows x 8 columns]"
      ]
     },
     "execution_count": 9,
     "metadata": {},
     "output_type": "execute_result"
    }
   ],
   "source": [
    "# Get the table\n",
    "rows = table1.find(\"tbody\").find_all(\"tr\")\n",
    "\n",
    "l = []\n",
    "for tr in rows:\n",
    "    td = tr.find_all('td')\n",
    "    row = [tr.text.strip() for tr in td]\n",
    "    l.append(row)\n",
    "\n",
    "df = pd.DataFrame(l, columns = column_name)\n",
    "df[\"Code\"] = \"OXY\"\n",
    "df[\"Date\"] = pd.to_datetime(df[\"Date\"])\n",
    "df.sort_values(by = [\"Date\"], ascending = True)\n"
   ]
  },
  {
   "cell_type": "markdown",
   "metadata": {},
   "source": [
    "<p> We could drop the useless column \"index\" and convert all other columns to float instead of strings. </p> \n"
   ]
  },
  {
   "cell_type": "markdown",
   "metadata": {},
   "source": [
    "### Scraping Multiple Tables "
   ]
  },
  {
   "cell_type": "markdown",
   "metadata": {},
   "source": [
    "<p> If we have a list of stocks we are interested, we can put them in a list and run for each. Eventually, we will have a concatenated dataframe. In this case, we will be looking at the stocks \"JMIA\", \"BA\", \"OXY\", \"SU\" and \"FB\" as an example. </p>"
   ]
  },
  {
   "cell_type": "code",
   "execution_count": 11,
   "metadata": {
    "scrolled": false
   },
   "outputs": [],
   "source": [
    "list = [\"JMIA\", \"BA\", \"OXY\", \"SU\", \"FB\"]\n",
    "d = {}\n",
    "\n",
    "\n",
    "for i in range(len(list)):\n",
    "    w = requests.get(\"https://ca.finance.yahoo.com/quote/\" + list[i] + \"/history?p=JMIA&.tsrc=fin-srch\")\n",
    "    web = bs(w.content)\n",
    "    \n",
    "    table = web.select(\"table.W\\(100\\%\\).M\\(0\\)\")[0]\n",
    "\n",
    "    columns = table.find(\"thead\").find_all(\"th\")\n",
    "\n",
    "\n",
    "    column_name = []\n",
    "    for c in columns:\n",
    "        column_name.append(c.string)\n",
    "\n",
    "    rows = table.find(\"tbody\").find_all(\"tr\")\n",
    "\n",
    "    l = []\n",
    "    for tr in rows:\n",
    "        td = tr.find_all('td')\n",
    "        row = [tr.text.strip() for tr in td]\n",
    "        l.append(row)\n",
    "    \n",
    "    temp = pd.DataFrame(l, columns = column_name)\n",
    "    temp[\"Stock_Code\"] = list[i]\n",
    "    temp[\"Date\"] = pd.to_datetime(temp[\"Date\"])\n",
    "    temp.reset_index()\n",
    "    d[i] = temp\n",
    "\n",
    "    \n",
    "df = pd.concat(d.values(), ignore_index=True)\n"
   ]
  },
  {
   "cell_type": "markdown",
   "metadata": {},
   "source": [
    "Modifying the dataset and changing columns to relevant datatypes."
   ]
  },
  {
   "cell_type": "code",
   "execution_count": 12,
   "metadata": {
    "scrolled": true
   },
   "outputs": [],
   "source": [
    "df = pd.DataFrame(df)\n",
    "df1 = df.sort_values(by = [\"Stock_Code\", \"Date\"]).reset_index()\n",
    "df1['Open'] = pd.to_numeric(df1['Open'],errors='coerce')"
   ]
  },
  {
   "cell_type": "markdown",
   "metadata": {},
   "source": [
    "We can plot the result with Seaborn."
   ]
  },
  {
   "cell_type": "code",
   "execution_count": 13,
   "metadata": {
    "scrolled": true
   },
   "outputs": [
    {
     "data": {
      "text/plain": [
       "<matplotlib.axes._subplots.AxesSubplot at 0x25d81ca3d00>"
      ]
     },
     "execution_count": 13,
     "metadata": {},
     "output_type": "execute_result"
    },
    {
     "data": {
      "image/png": "[encoded data removed]",
      "text/plain": [
       "<Figure size 842.4x595.44 with 1 Axes>"
      ]
     },
     "metadata": {},
     "output_type": "display_data"
    }
   ],
   "source": [
    "import seaborn as sns\n",
    "sns.set(rc={'figure.figsize':(11.7,8.27)})\n",
    "sns.lineplot(data=df1, x='Date', y='Open', hue='Stock_Code')"
   ]
  },
  {
   "cell_type": "markdown",
   "metadata": {},
   "source": [
    "### Scraping All Images From a Webpage"
   ]
  },
  {
   "cell_type": "markdown",
   "metadata": {},
   "source": [
    "We can also download all the images from a webpage, in this case, we will be looking at the Wikipedia page of \"Sherlock Holmes\". "
   ]
  },
  {
   "cell_type": "code",
   "execution_count": 14,
   "metadata": {},
   "outputs": [],
   "source": [
    "import re\n",
    "import requests\n",
    "from bs4 import BeautifulSoup\n",
    "\n",
    "site = 'https://en.wikipedia.org/wiki/Sherlock_Holmes'\n",
    "\n",
    "response = requests.get(site)\n",
    "\n",
    "soup = BeautifulSoup(response.text, 'html.parser')\n",
    "img_tags = soup.find_all('img')\n",
    "\n",
    "urls = [img['src'] for img in img_tags]"
   ]
  },
  {
   "cell_type": "markdown",
   "metadata": {},
   "source": [
    "After running the following codes, all images with correct urls will be downloaded to the designated folder. A messgage will be generated, telling you the number of images you have successfully downloaded. "
   ]
  },
  {
   "cell_type": "code",
   "execution_count": 16,
   "metadata": {},
   "outputs": [
    {
     "name": "stdout",
     "output_type": "stream",
     "text": [
      "Message: 44 images have been downloaded at your chosen folder.\n"
     ]
    }
   ],
   "source": [
    "import os\n",
    "\n",
    "for i in range(len(urls)):\n",
    "    if \"http\" not in urls[i]:\n",
    "        urls[i] = \"https:\" + urls[i]\n",
    "    name = i\n",
    "    fullname = str(name)+ \".jpg\"\n",
    "    try: \n",
    "        fullfilename = os.path.join(\"D:\\\\My Projects\\\\Downloaded images\", fullname)\n",
    "        urllib.request.urlretrieve(urls[i],fullfilename)\n",
    "    except: \n",
    "        pass\n",
    "\n",
    "print(\"Message: \" + str(len(os.listdir(\"D:\\\\My Projects\\\\Downloaded images\"))) + \" images have been downloaded at your chosen folder.\")"
   ]
  }
 ],
 "metadata": {
  "kernelspec": {
   "display_name": "Python 3",
   "language": "python",
   "name": "python3"
  },
  "language_info": {
   "codemirror_mode": {
    "name": "ipython",
    "version": 3
   },
   "file_extension": ".py",
   "mimetype": "text/x-python",
   "name": "python",
   "nbconvert_exporter": "python",
   "pygments_lexer": "ipython3",
   "version": "3.8.3"
  }
 },
 "nbformat": 4,
 "nbformat_minor": 4
}
